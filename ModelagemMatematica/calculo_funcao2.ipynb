{
 "cells": [
  {
   "cell_type": "code",
   "execution_count": 7,
   "metadata": {},
   "outputs": [],
   "source": [
    "import matplotlib.pyplot as plt \n",
    "import sympy as sp\n",
    "import math"
   ]
  },
  {
   "cell_type": "code",
   "execution_count": 74,
   "metadata": {},
   "outputs": [
    {
     "ename": "ZeroDivisionError",
     "evalue": "division by zero",
     "output_type": "error",
     "traceback": [
      "\u001b[1;31m---------------------------------------------------------------------------\u001b[0m",
      "\u001b[1;31mZeroDivisionError\u001b[0m                         Traceback (most recent call last)",
      "\u001b[1;32mc:\\Users\\luan-\\Documents\\Facul\\S3\\Modelagem Matemática (Cálculo 2)\\Laboratório\\calculo_funcao2.ipynb Cell 2'\u001b[0m in \u001b[0;36m<cell line: 19>\u001b[1;34m()\u001b[0m\n\u001b[0;32m     <a href='vscode-notebook-cell:/c%3A/Users/luan-/Documents/Facul/S3/Modelagem%20Matem%C3%A1tica%20%28C%C3%A1lculo%202%29/Laborat%C3%B3rio/calculo_funcao2.ipynb#ch0000001?line=15'>16</a>\u001b[0m     plt\u001b[39m.\u001b[39mscatter(x, y)\n\u001b[0;32m     <a href='vscode-notebook-cell:/c%3A/Users/luan-/Documents/Facul/S3/Modelagem%20Matem%C3%A1tica%20%28C%C3%A1lculo%202%29/Laborat%C3%B3rio/calculo_funcao2.ipynb#ch0000001?line=16'>17</a>\u001b[0m     plt\u001b[39m.\u001b[39mshow()\n\u001b[1;32m---> <a href='vscode-notebook-cell:/c%3A/Users/luan-/Documents/Facul/S3/Modelagem%20Matem%C3%A1tica%20%28C%C3%A1lculo%202%29/Laborat%C3%B3rio/calculo_funcao2.ipynb#ch0000001?line=18'>19</a>\u001b[0m desenho_funcao(\u001b[39mrange\u001b[39;49m(\u001b[39m2\u001b[39;49m))\n",
      "\u001b[1;32mc:\\Users\\luan-\\Documents\\Facul\\S3\\Modelagem Matemática (Cálculo 2)\\Laboratório\\calculo_funcao2.ipynb Cell 2'\u001b[0m in \u001b[0;36mdesenho_funcao\u001b[1;34m(range_x)\u001b[0m\n\u001b[0;32m     <a href='vscode-notebook-cell:/c%3A/Users/luan-/Documents/Facul/S3/Modelagem%20Matem%C3%A1tica%20%28C%C3%A1lculo%202%29/Laborat%C3%B3rio/calculo_funcao2.ipynb#ch0000001?line=10'>11</a>\u001b[0m y \u001b[39m=\u001b[39m []\n\u001b[0;32m     <a href='vscode-notebook-cell:/c%3A/Users/luan-/Documents/Facul/S3/Modelagem%20Matem%C3%A1tica%20%28C%C3%A1lculo%202%29/Laborat%C3%B3rio/calculo_funcao2.ipynb#ch0000001?line=11'>12</a>\u001b[0m \u001b[39mfor\u001b[39;00m i \u001b[39min\u001b[39;00m x:\n\u001b[1;32m---> <a href='vscode-notebook-cell:/c%3A/Users/luan-/Documents/Facul/S3/Modelagem%20Matem%C3%A1tica%20%28C%C3%A1lculo%202%29/Laborat%C3%B3rio/calculo_funcao2.ipynb#ch0000001?line=12'>13</a>\u001b[0m     y\u001b[39m.\u001b[39mappend(equacao(i))\n\u001b[0;32m     <a href='vscode-notebook-cell:/c%3A/Users/luan-/Documents/Facul/S3/Modelagem%20Matem%C3%A1tica%20%28C%C3%A1lculo%202%29/Laborat%C3%B3rio/calculo_funcao2.ipynb#ch0000001?line=14'>15</a>\u001b[0m plt\u001b[39m.\u001b[39mfigure(figsize\u001b[39m=\u001b[39m(\u001b[39m10\u001b[39m,\u001b[39m7\u001b[39m))\n\u001b[0;32m     <a href='vscode-notebook-cell:/c%3A/Users/luan-/Documents/Facul/S3/Modelagem%20Matem%C3%A1tica%20%28C%C3%A1lculo%202%29/Laborat%C3%B3rio/calculo_funcao2.ipynb#ch0000001?line=15'>16</a>\u001b[0m plt\u001b[39m.\u001b[39mscatter(x, y)\n",
      "\u001b[1;32mc:\\Users\\luan-\\Documents\\Facul\\S3\\Modelagem Matemática (Cálculo 2)\\Laboratório\\calculo_funcao2.ipynb Cell 2'\u001b[0m in \u001b[0;36mequacao\u001b[1;34m(input)\u001b[0m\n\u001b[0;32m      <a href='vscode-notebook-cell:/c%3A/Users/luan-/Documents/Facul/S3/Modelagem%20Matem%C3%A1tica%20%28C%C3%A1lculo%202%29/Laborat%C3%B3rio/calculo_funcao2.ipynb#ch0000001?line=0'>1</a>\u001b[0m \u001b[39mdef\u001b[39;00m \u001b[39mequacao\u001b[39m(\u001b[39minput\u001b[39m):\n\u001b[1;32m----> <a href='vscode-notebook-cell:/c%3A/Users/luan-/Documents/Facul/S3/Modelagem%20Matem%C3%A1tica%20%28C%C3%A1lculo%202%29/Laborat%C3%B3rio/calculo_funcao2.ipynb#ch0000001?line=1'>2</a>\u001b[0m     output \u001b[39m=\u001b[39m (x\u001b[39m*\u001b[39;49m\u001b[39m*\u001b[39;49m\u001b[39m2\u001b[39;49m \u001b[39m-\u001b[39;49m \u001b[39m4\u001b[39;49m)\u001b[39m/\u001b[39;49m(x\u001b[39m*\u001b[39;49m\u001b[39m*\u001b[39;49m\u001b[39m2\u001b[39;49m \u001b[39m-\u001b[39;49m (\u001b[39m5\u001b[39;49m\u001b[39m*\u001b[39;49mx) \u001b[39m+\u001b[39;49m \u001b[39m6\u001b[39;49m)\n\u001b[0;32m      <a href='vscode-notebook-cell:/c%3A/Users/luan-/Documents/Facul/S3/Modelagem%20Matem%C3%A1tica%20%28C%C3%A1lculo%202%29/Laborat%C3%B3rio/calculo_funcao2.ipynb#ch0000001?line=2'>3</a>\u001b[0m     \u001b[39mreturn\u001b[39;00m output\n",
      "\u001b[1;31mZeroDivisionError\u001b[0m: division by zero"
     ]
    }
   ],
   "source": [
    "def equacao(input):\n",
    "    output = (x**2 - 4)/(x**2 - (5*x) + 6)\n",
    "    return output\n",
    "\n",
    "def desenho_funcao(range_x):\n",
    "    x = []\n",
    "    for i in range_x:\n",
    "        if i != 0:\n",
    "            x.append(i)\n",
    "\n",
    "    y = []\n",
    "    for i in x:\n",
    "        y.append(equacao(i))\n",
    "\n",
    "    plt.figure(figsize=(10,7))\n",
    "    plt.scatter(x, y)\n",
    "    plt.show()\n",
    "\n",
    "desenho_funcao(range(2))"
   ]
  },
  {
   "cell_type": "code",
   "execution_count": 42,
   "metadata": {},
   "outputs": [
    {
     "data": {
      "text/latex": [
       "$\\displaystyle -1 + \\frac{1.0 \\log{\\left(x \\right)}}{x}$"
      ],
      "text/plain": [
       "-1 + 1.0*log(x)/x"
      ]
     },
     "execution_count": 42,
     "metadata": {},
     "output_type": "execute_result"
    }
   ],
   "source": [
    "x = sp.Symbol('x')\n",
    "f = sp.log(x, math.e)/x-1\n",
    "f"
   ]
  },
  {
   "cell_type": "code",
   "execution_count": 43,
   "metadata": {},
   "outputs": [
    {
     "data": {
      "text/plain": [
       "2.718281828459045"
      ]
     },
     "execution_count": 43,
     "metadata": {},
     "output_type": "execute_result"
    }
   ],
   "source": [
    "math.e"
   ]
  },
  {
   "cell_type": "code",
   "execution_count": 37,
   "metadata": {},
   "outputs": [
    {
     "data": {
      "text/plain": [
       "0.25"
      ]
     },
     "execution_count": 37,
     "metadata": {},
     "output_type": "execute_result"
    }
   ],
   "source": [
    "x=1\n",
    "f = (x-3)/(x**3 - (10*x**2) + (31*x) - 30)\n",
    "f"
   ]
  },
  {
   "cell_type": "code",
   "execution_count": 29,
   "metadata": {},
   "outputs": [
    {
     "data": {
      "text/latex": [
       "$\\displaystyle - \\frac{1}{2}$"
      ],
      "text/plain": [
       "-1/2"
      ]
     },
     "execution_count": 29,
     "metadata": {},
     "output_type": "execute_result"
    }
   ],
   "source": [
    "sp.limit(f, x, 3)"
   ]
  },
  {
   "cell_type": "code",
   "execution_count": 20,
   "metadata": {},
   "outputs": [
    {
     "data": {
      "image/png": "[encoded data removed]",
      "text/plain": [
       "<Figure size 720x360 with 1 Axes>"
      ]
     },
     "metadata": {
      "needs_background": "light"
     },
     "output_type": "display_data"
    },
    {
     "data": {
      "text/plain": [
       "<sympy.plotting.plot.Plot at 0x15941e0be50>"
      ]
     },
     "execution_count": 20,
     "metadata": {},
     "output_type": "execute_result"
    }
   ],
   "source": [
    "sp.plot(f, xlim=[-2, 8.5], ylim=[-4, 2.5], size=(10,5))"
   ]
  },
  {
   "cell_type": "markdown",
   "metadata": {},
   "source": [
    "### **EXERCÍCIO**"
   ]
  },
  {
   "cell_type": "code",
   "execution_count": 115,
   "metadata": {},
   "outputs": [
    {
     "data": {
      "text/latex": [
       "$\\displaystyle \\frac{2 x^{2} - 4}{4 x^{2} - 5 x + 6}$"
      ],
      "text/plain": [
       "(2*x**2 - 4)/(4*x**2 - 5*x + 6)"
      ]
     },
     "execution_count": 115,
     "metadata": {},
     "output_type": "execute_result"
    }
   ],
   "source": [
    "x = sp.Symbol('x')\n",
    "f = (2*x**2 - 4)/(4*x**2 - (5*x) + 6)\n",
    "f"
   ]
  },
  {
   "cell_type": "code",
   "execution_count": 116,
   "metadata": {},
   "outputs": [
    {
     "name": "stdout",
     "output_type": "stream",
     "text": [
      "Limite de f(x), para x tendendo a 1 é: -2/5\n",
      "Limite de f(x), para x tendendo a 1 pela esquerda é: -2/5\n",
      "Limite de f(x), para x tendendo a 1 pela direita é: -2/5\n",
      "\n",
      "Limite de f(x), para x tendendo a 2 é: 1/3\n",
      "Limite de f(x), para x tendendo a 2 pela esquerda é: 1/3\n",
      "Limite de f(x), para x tendendo a 2 pela direita é: 1/3\n",
      "\n",
      "Limite de f(x), para x tendendo a 3 é: 14/27\n",
      "Limite de f(x), para x tendendo a 3 pela esquerda é: 14/27\n",
      "Limite de f(x), para x tendendo a 3 pela direita é: 14/27\n",
      "\n",
      "Limite de f(x), para x tendendo a 4 é: 14/25\n",
      "Limite de f(x), para x tendendo a 4 pela esquerda é: 14/25\n",
      "Limite de f(x), para x tendendo a 4 pela direita é: 14/25\n",
      "\n",
      "Limite de f(x), para x tendendo a 5 é: 46/81\n",
      "Limite de f(x), para x tendendo a 5 pela esquerda é: 46/81\n",
      "Limite de f(x), para x tendendo a 5 pela direita é: 46/81\n",
      "\n"
     ]
    }
   ],
   "source": [
    "numbers = [1,2,3,4,5]\n",
    "\n",
    "\n",
    "for j in numbers:\n",
    "    limit = sp.limit(f, x, j)\n",
    "    limit_left = sp.limit(f, x, j, '-')\n",
    "    limit_right = sp.limit(f, x, j, '+')\n",
    "    print(f'Limite de f(x), para x tendendo a {j} é: {limit}')\n",
    "    print(f'Limite de f(x), para x tendendo a {j} pela esquerda é: {limit_left}')\n",
    "    print(f'Limite de f(x), para x tendendo a {j} pela direita é: {limit_right}\\n')"
   ]
  },
  {
   "cell_type": "code",
   "execution_count": 119,
   "metadata": {},
   "outputs": [
    {
     "data": {
      "image/png": "[encoded data removed]",
      "text/plain": [
       "<Figure size 720x360 with 1 Axes>"
      ]
     },
     "metadata": {
      "needs_background": "light"
     },
     "output_type": "display_data"
    },
    {
     "data": {
      "text/plain": [
       "<sympy.plotting.plot.Plot at 0x159458b9160>"
      ]
     },
     "execution_count": 119,
     "metadata": {},
     "output_type": "execute_result"
    }
   ],
   "source": [
    "sp.plot(f, xlim=[-5,10], ylim=[-10,5], size=(10,5))"
   ]
  },
  {
   "cell_type": "code",
   "execution_count": 108,
   "metadata": {},
   "outputs": [
    {
     "name": "stdout",
     "output_type": "stream",
     "text": [
      "-oo\n",
      "oo\n"
     ]
    }
   ],
   "source": [
    "print(sp.limit(f, x, 3, '-'))\n",
    "print(sp.limit(f, x, 3, '+'))"
   ]
  },
  {
   "cell_type": "markdown",
   "metadata": {},
   "source": [
    "### **PROVA**"
   ]
  },
  {
   "cell_type": "code",
   "execution_count": 36,
   "metadata": {},
   "outputs": [
    {
     "data": {
      "text/plain": [
       "10.56757172587476"
      ]
     },
     "execution_count": 36,
     "metadata": {},
     "output_type": "execute_result"
    }
   ],
   "source": [
    "n = ((2*21*18) + (2*13*(-9)))/(2*24.6982)\n",
    "n"
   ]
  },
  {
   "cell_type": "code",
   "execution_count": 30,
   "metadata": {},
   "outputs": [
    {
     "data": {
      "text/latex": [
       "$\\displaystyle - 4.85 x^{2} + 11.05 x + 0.3$"
      ],
      "text/plain": [
       "-4.85*x**2 + 11.05*x + 0.3"
      ]
     },
     "execution_count": 30,
     "metadata": {},
     "output_type": "execute_result"
    }
   ],
   "source": [
    "x = sp.Symbol('x')\n",
    "f = -4.85*x**2 + 11.05*x + 0.3\n",
    "f"
   ]
  },
  {
   "cell_type": "code",
   "execution_count": 31,
   "metadata": {},
   "outputs": [
    {
     "data": {
      "image/png": "[encoded data removed]",
      "text/plain": [
       "<Figure size 720x360 with 1 Axes>"
      ]
     },
     "metadata": {
      "needs_background": "light"
     },
     "output_type": "display_data"
    },
    {
     "data": {
      "text/plain": [
       "<sympy.plotting.plot.Plot at 0x1dfd4258af0>"
      ]
     },
     "execution_count": 31,
     "metadata": {},
     "output_type": "execute_result"
    }
   ],
   "source": [
    "sp.plot(f, xlim=[-1, 3], ylim=[-1, 7], size=(10,5))"
   ]
  },
  {
   "cell_type": "code",
   "execution_count": 32,
   "metadata": {},
   "outputs": [
    {
     "data": {
      "text/latex": [
       "$\\displaystyle 11.05 - 9.7 x$"
      ],
      "text/plain": [
       "11.05 - 9.7*x"
      ]
     },
     "execution_count": 32,
     "metadata": {},
     "output_type": "execute_result"
    }
   ],
   "source": [
    "f_dx = sp.diff(f)\n",
    "f_dx"
   ]
  },
  {
   "cell_type": "code",
   "execution_count": 33,
   "metadata": {},
   "outputs": [
    {
     "name": "stdout",
     "output_type": "stream",
     "text": [
      "x =  1.13917525773196\n",
      "f(1.13917525773196) = 6.59394329896907\n"
     ]
    }
   ],
   "source": [
    "x = sp.solve(f_dx, x)[0]\n",
    "print('x = ', x)\n",
    "f = -4.85*x**2 + 11.05*x + 0.3\n",
    "print(f'f({x}) = {f}')"
   ]
  },
  {
   "cell_type": "code",
   "execution_count": 39,
   "metadata": {},
   "outputs": [
    {
     "data": {
      "text/latex": [
       "$\\displaystyle 342.0 x^{3} + 2 x^{2}$"
      ],
      "text/plain": [
       "342.0*x**3 + 2*x**2"
      ]
     },
     "execution_count": 39,
     "metadata": {},
     "output_type": "execute_result"
    }
   ],
   "source": [
    "x = sp.Symbol('x')\n",
    "result = (x*2*x) + (2*x*(114/2*x**2)) + (2*2*x*(114/2*x**2))\n",
    "result"
   ]
  }
 ],
 "metadata": {
  "interpreter": {
   "hash": "c3a4021d9145bb77b1bea678a210ca1e90e038c141b2e793c7c7583cf867d32f"
  },
  "kernelspec": {
   "display_name": "Python 3.9.7 ('maia')",
   "language": "python",
   "name": "python3"
  },
  "language_info": {
   "codemirror_mode": {
    "name": "ipython",
    "version": 3
   },
   "file_extension": ".py",
   "mimetype": "text/x-python",
   "name": "python",
   "nbconvert_exporter": "python",
   "pygments_lexer": "ipython3",
   "version": "3.9.7"
  },
  "orig_nbformat": 4
 },
 "nbformat": 4,
 "nbformat_minor": 2
}
